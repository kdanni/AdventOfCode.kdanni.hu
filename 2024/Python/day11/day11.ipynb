{
 "cells": [
  {
   "cell_type": "code",
   "execution_count": null,
   "metadata": {},
   "outputs": [],
   "source": [
    "import os\n",
    "import sys\n",
    "curDir = os.path.abspath(os.curdir)\n",
    "puzzleInputDir = curDir + f\"{os.sep}..{os.sep}puzzle_input\"\n",
    "if puzzleInputDir not in  sys.path:\n",
    "    sys.path.insert(0, puzzleInputDir)\n",
    "\n",
    "# print(sys.path)\n",
    "\n",
    "import puzzle_input\n",
    "input = puzzle_input.fetch_input(11)\n",
    "# input = '0 1 10 99 999'\n",
    "# input = '125 17'\n",
    "\n",
    "print(input)\n"
   ]
  },
  {
   "cell_type": "code",
   "execution_count": null,
   "metadata": {},
   "outputs": [],
   "source": [
    "digits = list(map(int, input.split()))\n",
    "\n",
    "import pandas as pd\n",
    "from IPython.display import display, Markdown\n",
    "\n",
    "df = pd.DataFrame(digits)\n",
    "display(df)"
   ]
  },
  {
   "cell_type": "code",
   "execution_count": null,
   "metadata": {},
   "outputs": [],
   "source": [
    "# # import re\n",
    "\n",
    "# def blink(value):\n",
    "#     if value == 0:\n",
    "#         return (1,None)\n",
    "#     elif len(f\"{value}\") % 2 == 0:\n",
    "#         num = f\"{value}\"\n",
    "#         num1 = num[:len(num)//2] \n",
    "#         num2 = num[len(num)//2:]\n",
    "#         return (int(num1),int(num2))\n",
    "#     else:\n",
    "#         return (2024 * value, None)"
   ]
  },
  {
   "cell_type": "code",
   "execution_count": null,
   "metadata": {},
   "outputs": [],
   "source": [
    "# df = pd.DataFrame(digits)\n",
    "# display(df)\n",
    "\n",
    "# solution = df\n",
    "# part2 = df\n",
    "\n",
    "# numberOfBlinks = 25\n",
    "# for iteration in range(1, numberOfBlinks + 1):\n",
    "#     df[1] = df[0].apply(blink)\n",
    "#     nextDataFrame = []\n",
    "#     for i in range(0,len(df[1])):\n",
    "#         v = df[1].iloc[i]\n",
    "#         if v[1] is not None:\n",
    "#             nextDataFrame.append(v[0])\n",
    "#             nextDataFrame.append(v[1])\n",
    "#         else:\n",
    "#             nextDataFrame.append(v[0])\n",
    "#     df = pd.DataFrame(nextDataFrame)\n",
    "#     if(iteration == 25):\n",
    "#         solution = df\n",
    "#     if(iteration == 75):\n",
    "#         part2 = df\n",
    "#     # display(Markdown(f\"## Iteration {iteration}\"))\n",
    "#     # display(df)\n",
    "\n",
    "# display(df)\n"
   ]
  },
  {
   "cell_type": "code",
   "execution_count": null,
   "metadata": {},
   "outputs": [],
   "source": [
    "# display(Markdown(f\"## Solution\"))\n",
    "# display(Markdown(f\"- {len(solution)}\"))\n",
    "# # display(Markdown(f\"## Part2\"))\n",
    "# # display(Markdown(f\"- {len(part2)}\"))"
   ]
  },
  {
   "cell_type": "code",
   "execution_count": null,
   "metadata": {},
   "outputs": [],
   "source": [
    "\n",
    "display(digits)\n",
    "solution = 0\n",
    "part2 = 0   "
   ]
  },
  {
   "cell_type": "code",
   "execution_count": null,
   "metadata": {},
   "outputs": [],
   "source": [
    "\n",
    "from functools import lru_cache\n",
    "\n",
    "@lru_cache(maxsize=None)\n",
    "def blink(num):\n",
    "    if num == 0:\n",
    "        return [1]\n",
    "    elif len(f\"{num}\") % 2 == 0:\n",
    "        num = f\"{num}\"\n",
    "        num1 = num[:len(num)//2] \n",
    "        num2 = num[len(num)//2:]\n",
    "        return [int(num1),int(num2)]\n",
    "    return [2024 * num]\n",
    "    \n",
    "row = digits[:]\n",
    "for _ in range(75):\n",
    "    print(f\"iteration {_}\")\n",
    "    row = [x for num in row for x in blink(num)]\n",
    "    if(_ == 24):\n",
    "        solution = len(row)\n",
    "    if(_ == 74):\n",
    "        part2 = len(row)\n"
   ]
  },
  {
   "cell_type": "code",
   "execution_count": null,
   "metadata": {},
   "outputs": [],
   "source": [
    "print('solution', solution, 'part2', part2)"
   ]
  }
 ],
 "metadata": {
  "kernelspec": {
   "display_name": "advent",
   "language": "python",
   "name": "python3"
  },
  "language_info": {
   "codemirror_mode": {
    "name": "ipython",
    "version": 3
   },
   "file_extension": ".py",
   "mimetype": "text/x-python",
   "name": "python",
   "nbconvert_exporter": "python",
   "pygments_lexer": "ipython3",
   "version": "3.12.4"
  }
 },
 "nbformat": 4,
 "nbformat_minor": 2
}
