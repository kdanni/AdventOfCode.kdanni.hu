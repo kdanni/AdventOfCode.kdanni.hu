{
 "cells": [
  {
   "cell_type": "code",
   "execution_count": 26,
   "metadata": {},
   "outputs": [],
   "source": [
    "import time\n",
    "start = time.time()"
   ]
  },
  {
   "cell_type": "code",
   "execution_count": 27,
   "metadata": {},
   "outputs": [
    {
     "name": "stdout",
     "output_type": "stream",
     "text": [
      "5 89749 6061 43 867 1965860 0 206250\n",
      "\n"
     ]
    }
   ],
   "source": [
    "import os\n",
    "import sys\n",
    "curDir = os.path.abspath(os.curdir)\n",
    "puzzleInputDir = curDir + f\"{os.sep}..{os.sep}puzzle_input\"\n",
    "if puzzleInputDir not in  sys.path:\n",
    "    sys.path.insert(0, puzzleInputDir)\n",
    "\n",
    "# print(sys.path)\n",
    "\n",
    "import puzzle_input\n",
    "input = puzzle_input.fetch_input(11)\n",
    "# input = '0 1 10 99 999'\n",
    "# input = '125 17'\n",
    "\n",
    "print(input)\n"
   ]
  },
  {
   "cell_type": "code",
   "execution_count": 28,
   "metadata": {},
   "outputs": [
    {
     "data": {
      "text/html": [
       "<div>\n",
       "<style scoped>\n",
       "    .dataframe tbody tr th:only-of-type {\n",
       "        vertical-align: middle;\n",
       "    }\n",
       "\n",
       "    .dataframe tbody tr th {\n",
       "        vertical-align: top;\n",
       "    }\n",
       "\n",
       "    .dataframe thead th {\n",
       "        text-align: right;\n",
       "    }\n",
       "</style>\n",
       "<table border=\"1\" class=\"dataframe\">\n",
       "  <thead>\n",
       "    <tr style=\"text-align: right;\">\n",
       "      <th></th>\n",
       "      <th>0</th>\n",
       "    </tr>\n",
       "  </thead>\n",
       "  <tbody>\n",
       "    <tr>\n",
       "      <th>0</th>\n",
       "      <td>5</td>\n",
       "    </tr>\n",
       "    <tr>\n",
       "      <th>1</th>\n",
       "      <td>89749</td>\n",
       "    </tr>\n",
       "    <tr>\n",
       "      <th>2</th>\n",
       "      <td>6061</td>\n",
       "    </tr>\n",
       "    <tr>\n",
       "      <th>3</th>\n",
       "      <td>43</td>\n",
       "    </tr>\n",
       "    <tr>\n",
       "      <th>4</th>\n",
       "      <td>867</td>\n",
       "    </tr>\n",
       "    <tr>\n",
       "      <th>5</th>\n",
       "      <td>1965860</td>\n",
       "    </tr>\n",
       "    <tr>\n",
       "      <th>6</th>\n",
       "      <td>0</td>\n",
       "    </tr>\n",
       "    <tr>\n",
       "      <th>7</th>\n",
       "      <td>206250</td>\n",
       "    </tr>\n",
       "  </tbody>\n",
       "</table>\n",
       "</div>"
      ],
      "text/plain": [
       "         0\n",
       "0        5\n",
       "1    89749\n",
       "2     6061\n",
       "3       43\n",
       "4      867\n",
       "5  1965860\n",
       "6        0\n",
       "7   206250"
      ]
     },
     "metadata": {},
     "output_type": "display_data"
    }
   ],
   "source": [
    "digits = list(map(int, input.split()))\n",
    "\n",
    "import pandas as pd\n",
    "from IPython.display import display, Markdown\n",
    "\n",
    "df = pd.DataFrame(digits)\n",
    "display(df)"
   ]
  },
  {
   "cell_type": "code",
   "execution_count": 29,
   "metadata": {},
   "outputs": [],
   "source": [
    "# # import re\n",
    "\n",
    "# def blink(value):\n",
    "#     if value == 0:\n",
    "#         return (1,None)\n",
    "#     elif len(f\"{value}\") % 2 == 0:\n",
    "#         num = f\"{value}\"\n",
    "#         num1 = num[:len(num)//2] \n",
    "#         num2 = num[len(num)//2:]\n",
    "#         return (int(num1),int(num2))\n",
    "#     else:\n",
    "#         return (2024 * value, None)"
   ]
  },
  {
   "cell_type": "code",
   "execution_count": 30,
   "metadata": {},
   "outputs": [],
   "source": [
    "# df = pd.DataFrame(digits)\n",
    "# display(df)\n",
    "\n",
    "# solution = df\n",
    "# part2 = df\n",
    "\n",
    "# numberOfBlinks = 25\n",
    "# for iteration in range(1, numberOfBlinks + 1):\n",
    "#     df[1] = df[0].apply(blink)\n",
    "#     nextDataFrame = []\n",
    "#     for i in range(0,len(df[1])):\n",
    "#         v = df[1].iloc[i]\n",
    "#         if v[1] is not None:\n",
    "#             nextDataFrame.append(v[0])\n",
    "#             nextDataFrame.append(v[1])\n",
    "#         else:\n",
    "#             nextDataFrame.append(v[0])\n",
    "#     df = pd.DataFrame(nextDataFrame)\n",
    "#     if(iteration == 25):\n",
    "#         solution = df\n",
    "#     if(iteration == 75):\n",
    "#         part2 = df\n",
    "#     # display(Markdown(f\"## Iteration {iteration}\"))\n",
    "#     # display(df)\n",
    "\n",
    "# display(df)\n"
   ]
  },
  {
   "cell_type": "code",
   "execution_count": 31,
   "metadata": {},
   "outputs": [],
   "source": [
    "# display(Markdown(f\"## Solution\"))\n",
    "# display(Markdown(f\"- {len(solution)}\"))\n",
    "# # display(Markdown(f\"## Part2\"))\n",
    "# # display(Markdown(f\"- {len(part2)}\"))"
   ]
  },
  {
   "cell_type": "code",
   "execution_count": 32,
   "metadata": {},
   "outputs": [
    {
     "data": {
      "text/plain": [
       "[5, 89749, 6061, 43, 867, 1965860, 0, 206250]"
      ]
     },
     "metadata": {},
     "output_type": "display_data"
    }
   ],
   "source": [
    "\n",
    "display(digits)\n",
    "solution = 0\n",
    "part2 = 0   "
   ]
  },
  {
   "cell_type": "code",
   "execution_count": 33,
   "metadata": {},
   "outputs": [],
   "source": [
    "\n",
    "from functools import lru_cache\n",
    "\n",
    "@lru_cache(maxsize=None)\n",
    "def split(num):\n",
    "    num = f\"{num}\"\n",
    "    num1 = num[:len(num)//2] \n",
    "    num2 = num[len(num)//2:]\n",
    "    return (int(num1), int(num2))\n",
    "\n",
    "@lru_cache(maxsize=None)\n",
    "def blink(stone, n):\n",
    "    ret = 0\n",
    "    if n == 1:\n",
    "        if len(f\"{stone}\") % 2 == 0:\n",
    "            ret = 2\n",
    "        else:\n",
    "            ret = 1\n",
    "    elif stone == 0:\n",
    "        ret = blink(1, n - 1)\n",
    "    elif len(f\"{stone}\") % 2 == 0:\n",
    "        num1, num2 = split(stone)\n",
    "        ret = blink(int(num1), n - 1) + blink(int(num2), n - 1)\n",
    "    else:\n",
    "        ret = blink(2024 * stone, n - 1)\n",
    "    return ret\n",
    "    \n",
    "for i in digits:\n",
    "    solution += blink(i, 25)\n",
    "    part2 += blink(i, 75)"
   ]
  },
  {
   "cell_type": "code",
   "execution_count": 34,
   "metadata": {},
   "outputs": [
    {
     "name": "stdout",
     "output_type": "stream",
     "text": [
      "solution 203609 part2 240954878211138\n",
      "run time 0.7050135135650635\n"
     ]
    }
   ],
   "source": [
    "print('solution', solution, 'part2', part2)\n",
    "end = time.time()\n",
    "print('run time', end - start)"
   ]
  }
 ],
 "metadata": {
  "kernelspec": {
   "display_name": "advent",
   "language": "python",
   "name": "python3"
  },
  "language_info": {
   "codemirror_mode": {
    "name": "ipython",
    "version": 3
   },
   "file_extension": ".py",
   "mimetype": "text/x-python",
   "name": "python",
   "nbconvert_exporter": "python",
   "pygments_lexer": "ipython3",
   "version": "3.10.12"
  }
 },
 "nbformat": 4,
 "nbformat_minor": 2
}
