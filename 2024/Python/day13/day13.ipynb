{
 "cells": [
  {
   "cell_type": "markdown",
   "metadata": {},
   "source": [
    "```\n",
    "Button A: X+94, Y+34\n",
    "Button B: X+22, Y+67\n",
    "Prize: X=8400, Y=5400\n",
    "\n",
    "Button A: X+26, Y+66\n",
    "Button B: X+67, Y+21\n",
    "Prize: X=12748, Y=12176\n",
    "\n",
    "Button A: X+17, Y+86\n",
    "Button B: X+84, Y+37\n",
    "Prize: X=7870, Y=6450\n",
    "\n",
    "Button A: X+69, Y+23\n",
    "Button B: X+27, Y+71\n",
    "Prize: X=18641, Y=10279\n",
    "```"
   ]
  },
  {
   "cell_type": "code",
   "execution_count": 1,
   "metadata": {},
   "outputs": [],
   "source": [
    "import time\n",
    "start = time.time()"
   ]
  },
  {
   "cell_type": "code",
   "execution_count": null,
   "metadata": {},
   "outputs": [],
   "source": [
    "import os\n",
    "import sys\n",
    "curDir = os.path.abspath(os.curdir)\n",
    "puzzleInputDir = curDir + f\"{os.sep}..{os.sep}puzzle_input\"\n",
    "if puzzleInputDir not in  sys.path:\n",
    "    sys.path.insert(0, puzzleInputDir)\n",
    "\n",
    "# print(sys.path)\n",
    "\n",
    "import puzzle_input\n",
    "input = puzzle_input.fetch_input(13)\n",
    "\n",
    "# input = \"\" + \\\n",
    "#     \"Button A: X+94, Y+34\"  + \\\n",
    "#     \"\\nButton B: X+22, Y+67\"  + \\\n",
    "#     \"\\nPrize: X=8400, Y=5400\"  + \\\n",
    "#     \"\\n\"  + \\\n",
    "#     \"\\nButton A: X+26, Y+66\"  + \\\n",
    "#     \"\\nButton B: X+67, Y+21\" + \\\n",
    "#     \"\\nPrize: X=12748, Y=12176\" + \\\n",
    "#     \"\\n\" + \\\n",
    "#     \"\\nButton A: X+17, Y+86\" + \\\n",
    "#     \"\\nButton B: X+84, Y+37\" + \\\n",
    "#     \"\\nPrize: X=7870, Y=6450\" + \\\n",
    "#     \"\\n\" + \\\n",
    "#     \"\\nButton A: X+69, Y+23\" + \\\n",
    "#     \"\\nButton B: X+27, Y+71\" + \\\n",
    "#     \"\\nPrize: X=18641, Y=10279\"\n",
    "\n",
    "\n",
    "print(input)\n"
   ]
  },
  {
   "cell_type": "code",
   "execution_count": null,
   "metadata": {},
   "outputs": [],
   "source": [
    "rules = input[:-1].split(\"\\n\\n\")\n",
    "print(rules)"
   ]
  },
  {
   "cell_type": "code",
   "execution_count": null,
   "metadata": {},
   "outputs": [],
   "source": [
    "for i in range(len(rules)):\n",
    "    rules[i] = rules[i].split(\"\\n\")\n",
    "    for r in range(len(rules[i])):\n",
    "        rules[i][r] = rules[i][r].split(\": \")\n",
    "print(rules)"
   ]
  },
  {
   "cell_type": "code",
   "execution_count": null,
   "metadata": {},
   "outputs": [],
   "source": [
    "def button_rule(rule):\n",
    "    buttonLabel = rule[0][-1]\n",
    "    xy = rule[1].split(\", \")\n",
    "    x = int(xy[0][2:])\n",
    "    y = int(xy[1][2:])\n",
    "    return (buttonLabel, x, y)\n",
    "\n",
    "for r in rules:\n",
    "    r[0] = button_rule(r[0])\n",
    "    r[1] = button_rule(r[1])\n",
    "    r[2] = r[2][1].split(\", \")\n",
    "    r[2] = (int(r[2][0][2:]), int(r[2][1][2:]))\n",
    "    print(r)   "
   ]
  },
  {
   "cell_type": "code",
   "execution_count": null,
   "metadata": {},
   "outputs": [],
   "source": [
    "print (rules[0])"
   ]
  },
  {
   "cell_type": "code",
   "execution_count": 7,
   "metadata": {},
   "outputs": [],
   "source": [
    "import numpy as np\n",
    "\n",
    "# ax = rules[0][0][1]\n",
    "# ay = rules[0][0][2]\n",
    "# bx = rules[0][1][1]\n",
    "# by = rules[0][1][2]\n",
    "# cx = rules[0][2][0]\n",
    "# cy = rules[0][2][1]\n",
    "# r = np.array([[ax, bx], [ay, by]])\n",
    "# p = np.array([cx, cy])\n",
    "# x = np.linalg.solve(r, p)\n",
    "# print(x)\n",
    "\n",
    "def solve(rules):\n",
    "    ax = rules[0][0][1]\n",
    "    ay = rules[0][0][2]\n",
    "    bx = rules[0][1][1]\n",
    "    by = rules[0][1][2]\n",
    "    cx = rules[0][2][0]\n",
    "    cy = rules[0][2][1]\n",
    "    r = np.array([[ax, bx], [ay, by]])\n",
    "    p = np.array([cx, cy])\n",
    "    x = np.linalg.solve(r, p)\n",
    "    # print(x, np.allclose(np.dot(r, x), p))\n",
    "    return x\n",
    "\n",
    "def isclose(a, b, rel_tol=1e-8, abs_tol=0.0):\n",
    "    return abs(a - b) <= max(rel_tol * max(abs(a), abs(b)), abs_tol)\n",
    "\n",
    "def is_integer(n):\n",
    "    # return isclose(n, int(n))\n",
    "    print(f\"{n}\")\n",
    "    return f\"{n}\".endswith(\".\") or f\"{n}\".endswith(\".0\") or \\\n",
    "        f\"{n}\".endswith(\".0000\") or f\"{n}\".endswith(\".9999\")\n",
    "\n",
    "def check(solution):\n",
    "    if solution[0] < 0 or solution[1] < 0:\n",
    "        # print(\"negative\", solution)\n",
    "        return False\n",
    "    else:\n",
    "        # print(\"integer\", solution, solution[0].is_integer(), isclose(solution[0], int(solution[0]) ),\n",
    "        #        isclose(solution[1], int(solution[1]) ), solution[1].is_integer())\n",
    "        # return (solution[0].is_integer() and solution[1].is_integer())\n",
    "        return is_integer(solution[0]) and is_integer(solution[1])\n",
    "    \n",
    "def checkEq(rule, x):\n",
    "    ax = rule[0][1]\n",
    "    ay = rule[0][2]\n",
    "    bx = rule[1][1]\n",
    "    by = rule[1][2]\n",
    "    cx = rule[2][0]\n",
    "    cy = rule[2][1]\n",
    "    return (ax * int(x[0]) + bx * int(x[1]) == cx) and (ay * int(x[0]) + by * int(x[1]) == cy)"
   ]
  },
  {
   "cell_type": "code",
   "execution_count": null,
   "metadata": {},
   "outputs": [],
   "source": [
    "part1 = 0\n",
    "for r in rules:\n",
    "    x = solve([r])\n",
    "    print(x, check(x), checkEq(r, x))    \n",
    "    print(f\"ax * x[0] = {r[0][1] * int(x[0])}, ay * x[0] = {r[0][2]* int(x[0])}\")\n",
    "    print(f\"bx * x[1] = {r[1][1] * int(x[1])}, by * x[1] = {r[1][2]* int(x[1])}\")\n",
    "    print(f\"cx = {r[2][0]}, cy = {r[2][1]}\")\n",
    "    print(f\"cx2 = {r[0][1] * int(x[0]) + r[1][1] * int(x[1])}, \" +\n",
    "            f\"cy2 = {r[0][2] * int(x[0]) + r[1][2] * int(x[1])}\")\n",
    "    if checkEq(r, x):\n",
    "        part1 += (3*int(x[0]) + int(x[1]))"
   ]
  },
  {
   "cell_type": "code",
   "execution_count": null,
   "metadata": {},
   "outputs": [],
   "source": [
    "print('part1', part1)"
   ]
  }
 ],
 "metadata": {
  "kernelspec": {
   "display_name": "advent",
   "language": "python",
   "name": "python3"
  },
  "language_info": {
   "codemirror_mode": {
    "name": "ipython",
    "version": 3
   },
   "file_extension": ".py",
   "mimetype": "text/x-python",
   "name": "python",
   "nbconvert_exporter": "python",
   "pygments_lexer": "ipython3",
   "version": "3.10.12"
  }
 },
 "nbformat": 4,
 "nbformat_minor": 2
}
