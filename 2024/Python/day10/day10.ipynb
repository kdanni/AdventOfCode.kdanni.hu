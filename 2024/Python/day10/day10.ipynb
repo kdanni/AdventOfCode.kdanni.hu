{
 "cells": [
  {
   "cell_type": "markdown",
   "metadata": {},
   "source": [
    "# Day 10"
   ]
  },
  {
   "cell_type": "code",
   "execution_count": null,
   "metadata": {},
   "outputs": [],
   "source": [
    "import os\n",
    "import sys\n",
    "curDir = os.path.abspath(os.curdir)\n",
    "puzzleInputDir = curDir + f\"{os.sep}..{os.sep}puzzle_input\"\n",
    "if puzzleInputDir not in  sys.path:\n",
    "    sys.path.insert(0, puzzleInputDir)\n",
    "\n",
    "# print(sys.path)\n",
    "\n",
    "import puzzle_input\n",
    "input = puzzle_input.fetch_input(10)\n",
    "\n",
    "print(input)\n"
   ]
  },
  {
   "cell_type": "code",
   "execution_count": null,
   "metadata": {},
   "outputs": [],
   "source": [
    "import pandas as pd\n",
    "\n"
   ]
  }
 ],
 "metadata": {
  "kernelspec": {
   "display_name": "advent",
   "language": "python",
   "name": "python3"
  },
  "language_info": {
   "codemirror_mode": {
    "name": "ipython",
    "version": 3
   },
   "file_extension": ".py",
   "mimetype": "text/x-python",
   "name": "python",
   "nbconvert_exporter": "python",
   "pygments_lexer": "ipython3",
   "version": "3.10.12"
  }
 },
 "nbformat": 4,
 "nbformat_minor": 2
}
